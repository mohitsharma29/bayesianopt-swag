{
 "cells": [
  {
   "cell_type": "markdown",
   "metadata": {},
   "source": [
    "# Adaptivity of Posterior Variance with Data"
   ]
  },
  {
   "cell_type": "code",
   "execution_count": 2,
   "metadata": {},
   "outputs": [],
   "source": [
    "import argparse\n",
    "import os, sys\n",
    "import time\n",
    "import tabulate\n",
    "\n",
    "import torch\n",
    "import torch.nn.functional as F\n",
    "import torchvision\n",
    "import numpy as np\n",
    "import tqdm\n",
    "\n",
    "from matplotlib import pyplot as plt\n",
    "import seaborn as sns\n",
    "\n",
    "from swag import data, models, utils, losses\n",
    "from swag.posteriors import SWAG, SGLD\n",
    "\n",
    "%matplotlib inline"
   ]
  },
  {
   "cell_type": "code",
   "execution_count": 3,
   "metadata": {},
   "outputs": [
    {
     "name": "stdout",
     "output_type": "stream",
     "text": [
      "Files already downloaded and verified\n",
      "You are going to run models on the test set. Are you sure?\n",
      "Files already downloaded and verified\n"
     ]
    }
   ],
   "source": [
    "model_cfg = models.PreResNet20NoAug\n",
    "\n",
    "loaders, num_classes = data.loaders(\n",
    "    \"CIFAR10\",\n",
    "    \"~/datasets/\",\n",
    "    10000,\n",
    "    4,\n",
    "    model_cfg.transform_train,\n",
    "    model_cfg.transform_test,\n",
    "    use_validation=False,\n",
    "    split_classes=None,\n",
    "    shuffle_train=False\n",
    ")\n",
    "loader = loaders[\"test\"]\n",
    "\n",
    "model = model_cfg.base(*model_cfg.args, num_classes=num_classes, **model_cfg.kwargs)\n",
    "model.cuda();"
   ]
  },
  {
   "cell_type": "code",
   "execution_count": 5,
   "metadata": {},
   "outputs": [],
   "source": [
    "def resample(model, sigma=1):\n",
    "    for p in model.parameters():\n",
    "        p.copy_(torch.randn_like(p) * sigma)\n",
    "        \n",
    "def softmax(arr, axis=-1):\n",
    "    arr_ = arr - np.max(arr, axis=axis, keepdims=True)\n",
    "    return np.exp(arr_) / np.sum(np.exp(arr_), axis=axis, keepdims=True)"
   ]
  },
  {
   "cell_type": "markdown",
   "metadata": {},
   "source": [
    "## Train Data"
   ]
  },
  {
   "cell_type": "code",
   "execution_count": 4,
   "metadata": {},
   "outputs": [],
   "source": [
    "idx = []\n",
    "y = np.array(loaders['train'].dataset.targets)\n",
    "perclass = 100\n",
    "\n",
    "for cls in range(10):\n",
    "    idx += np.where(y == cls)[0][:perclass].tolist()\n",
    "loaders['train'].dataset.data = loaders['train'].dataset.data[idx]\n",
    "loaders['train'].dataset.targets = np.array(loaders['train'].dataset.targets)[idx]\n",
    "\n",
    "assert len(loaders['train'].dataset) == 10 * perclass"
   ]
  },
  {
   "cell_type": "markdown",
   "metadata": {},
   "source": [
    "## Test Data\n",
    "We will visualize posterior samples after observing `perclass * 10` datapoints"
   ]
  },
  {
   "cell_type": "code",
   "execution_count": 6,
   "metadata": {},
   "outputs": [],
   "source": [
    "for x, y in loader:\n",
    "    break\n",
    "\n",
    "mask = np.zeros_like(y).astype(bool)\n",
    "classes = np.arange(10)\n",
    "perclass = 20\n",
    "\n",
    "for cls in classes:\n",
    "    mask_cls = np.where(y == cls)[0]\n",
    "    mask[mask_cls[:perclass]] = True\n",
    "\n",
    "x = x[mask].cuda()\n",
    "y = y[mask]\n",
    "\n",
    "idx = np.argsort(y)\n",
    "x_test = x[idx]\n",
    "y_test = y[idx]"
   ]
  },
  {
   "cell_type": "markdown",
   "metadata": {},
   "source": [
    "## Prior Samples"
   ]
  },
  {
   "cell_type": "code",
   "execution_count": 8,
   "metadata": {},
   "outputs": [],
   "source": [
    "all_outputs = []\n",
    "sigma = np.sqrt(10)\n",
    "samples = 500\n",
    "\n",
    "with torch.no_grad():\n",
    "    for i in range(samples):\n",
    "        resample(model, sigma=sigma)\n",
    "        outputs = model(x_test).data.cpu().numpy()[:, :, None]\n",
    "        all_outputs.append(outputs)\n",
    "all_outputs = np.dstack(all_outputs)"
   ]
  },
  {
   "cell_type": "code",
   "execution_count": 9,
   "metadata": {},
   "outputs": [
    {
     "data": {
      "text/plain": [
       "<BarContainer object of 10 artists>"
      ]
     },
     "execution_count": 9,
     "metadata": {},
     "output_type": "execute_result"
    },
    {
     "data": {
      "image/png": "[encoded data removed]",
      "text/plain": [
       "<Figure size 1080x360 with 5 Axes>"
      ]
     },
     "metadata": {
      "needs_background": "light"
     },
     "output_type": "display_data"
    }
   ],
   "source": [
    "all_probs = softmax(all_outputs, axis=1)\n",
    "f, arr = plt.subplots(1, 5, figsize=(15, 5))\n",
    "\n",
    "for i in range(4):\n",
    "        arr[i+1].set_title(\"sample {}\".format(i))\n",
    "        arr[i+1].bar(classes, all_probs[:, :, i].mean(axis=0))\n",
    "arr[0].set_title(\"pred dist\")\n",
    "arr[0].bar(classes, all_probs.mean(axis=0).mean(axis=-1))"
   ]
  },
  {
   "cell_type": "markdown",
   "metadata": {},
   "source": [
    "## Posterior Samples"
   ]
  },
  {
   "cell_type": "code",
   "execution_count": 10,
   "metadata": {},
   "outputs": [],
   "source": [
    "from torch.optim.lr_scheduler import CosineAnnealingLR"
   ]
  },
  {
   "cell_type": "code",
   "execution_count": 11,
   "metadata": {},
   "outputs": [],
   "source": [
    "with torch.no_grad():\n",
    "    resample(model,0.1)\n",
    "opt = torch.optim.SGD(model.parameters(), lr=0.01, momentum=0.9)\n",
    "opt_sgld = SGLD(model.parameters(), lr=1e-3, noise_factor=1/np.sqrt(len(loaders['train'].dataset)))\n",
    "criterion = losses.cross_entropy"
   ]
  },
  {
   "cell_type": "code",
   "execution_count": 12,
   "metadata": {},
   "outputs": [
    {
     "name": "stderr",
     "output_type": "stream",
     "text": [
      "0it [00:00, ?it/s]\n",
      "100%|██████████| 5000/5000 [29:43<00:00,  2.80it/s]"
     ]
    },
    {
     "name": "stdout",
     "output_type": "stream",
     "text": [
      "0 {'loss': 145.5122833251953, 'accuracy': 17.4, 'stats': {}}\n"
     ]
    },
    {
     "name": "stderr",
     "output_type": "stream",
     "text": [
      "\n"
     ]
    }
   ],
   "source": [
    "all_outputs = []\n",
    "sigma = np.sqrt(1e1)\n",
    "epochs = 0\n",
    "sgld_epochs = 5000\n",
    "samples = 1\n",
    "\n",
    "scheduler_sgld = CosineAnnealingLR(opt_sgld, T_max=sgld_epochs)\n",
    "\n",
    "regularizer = lambda model: \\\n",
    "        sum([p.norm()**2 for p in model.parameters()]) / (2 * sigma**2 * len(loaders['train'].dataset))\n",
    "\n",
    "for i in range(samples):\n",
    "    with torch.no_grad():\n",
    "        resample(model, sigma=sigma)\n",
    "    for _ in tqdm.tqdm(range(epochs)):\n",
    "        res = utils.train_epoch(loaders['train'], model, criterion, opt, regularizer=regularizer)\n",
    "        \n",
    "    for _ in tqdm.tqdm(range(sgld_epochs)):\n",
    "        res = utils.train_epoch(loaders['train'], model, criterion, opt_sgld, regularizer=regularizer)\n",
    "        scheduler_sgld.step()\n",
    "    print(i, res)\n",
    "    with torch.no_grad():\n",
    "        outputs = model(x_test).data.cpu().numpy()[:, :, None]\n",
    "        all_outputs.append(outputs)\n",
    "all_outputs = np.dstack(all_outputs)"
   ]
  },
  {
   "cell_type": "code",
   "execution_count": 15,
   "metadata": {},
   "outputs": [
    {
     "data": {
      "text/plain": [
       "<BarContainer object of 10 artists>"
      ]
     },
     "execution_count": 15,
     "metadata": {},
     "output_type": "execute_result"
    },
    {
     "data": {
      "image/png": "[encoded data removed]",
      "text/plain": [
       "<Figure size 360x360 with 1 Axes>"
      ]
     },
     "metadata": {
      "needs_background": "light"
     },
     "output_type": "display_data"
    }
   ],
   "source": [
    "all_probs = softmax(all_outputs, axis=1)\n",
    "f, arr = plt.subplots(1, 1, figsize=(5, 5))\n",
    "\n",
    "arr.set_title(\"sample {}\".format(i))\n",
    "arr.bar(classes, all_probs[:, :, i].mean(axis=0))"
   ]
  }
 ],
 "metadata": {
  "kernelspec": {
   "display_name": "py37",
   "language": "python",
   "name": "py37"
  },
  "language_info": {
   "codemirror_mode": {
    "name": "ipython",
    "version": 3
   },
   "file_extension": ".py",
   "mimetype": "text/x-python",
   "name": "python",
   "nbconvert_exporter": "python",
   "pygments_lexer": "ipython3",
   "version": "3.7.6"
  }
 },
 "nbformat": 4,
 "nbformat_minor": 2
}
